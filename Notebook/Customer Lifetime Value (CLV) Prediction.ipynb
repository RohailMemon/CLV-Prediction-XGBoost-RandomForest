{
 "cells": [
  {
   "cell_type": "code",
   "execution_count": 12,
   "id": "9c64bed0",
   "metadata": {},
   "outputs": [],
   "source": [
    "# Load required libraries\n",
    "import pandas as pd\n",
    "from sklearn.model_selection import train_test_split\n",
    "from sklearn.ensemble import RandomForestRegressor\n",
    "from sklearn.metrics import mean_absolute_error, mean_squared_error, r2_score\n",
    "import xgboost as xgb\n",
    "import numpy as np\n",
    "import matplotlib.pyplot as plt\n",
    "import seaborn as sns"
   ]
  },
  {
   "cell_type": "code",
   "execution_count": 4,
   "id": "5838a137",
   "metadata": {},
   "outputs": [
    {
     "data": {
      "text/html": [
       "<div>\n",
       "<style scoped>\n",
       "    .dataframe tbody tr th:only-of-type {\n",
       "        vertical-align: middle;\n",
       "    }\n",
       "\n",
       "    .dataframe tbody tr th {\n",
       "        vertical-align: top;\n",
       "    }\n",
       "\n",
       "    .dataframe thead th {\n",
       "        text-align: right;\n",
       "    }\n",
       "</style>\n",
       "<table border=\"1\" class=\"dataframe\">\n",
       "  <thead>\n",
       "    <tr style=\"text-align: right;\">\n",
       "      <th></th>\n",
       "      <th>adr</th>\n",
       "      <th>total_nights</th>\n",
       "      <th>previous_bookings_not_canceled</th>\n",
       "      <th>clv</th>\n",
       "    </tr>\n",
       "  </thead>\n",
       "  <tbody>\n",
       "    <tr>\n",
       "      <th>0</th>\n",
       "      <td>0.0</td>\n",
       "      <td>0</td>\n",
       "      <td>0</td>\n",
       "      <td>0.0</td>\n",
       "    </tr>\n",
       "    <tr>\n",
       "      <th>1</th>\n",
       "      <td>0.0</td>\n",
       "      <td>0</td>\n",
       "      <td>0</td>\n",
       "      <td>0.0</td>\n",
       "    </tr>\n",
       "    <tr>\n",
       "      <th>2</th>\n",
       "      <td>75.0</td>\n",
       "      <td>1</td>\n",
       "      <td>0</td>\n",
       "      <td>75.0</td>\n",
       "    </tr>\n",
       "    <tr>\n",
       "      <th>3</th>\n",
       "      <td>75.0</td>\n",
       "      <td>1</td>\n",
       "      <td>0</td>\n",
       "      <td>75.0</td>\n",
       "    </tr>\n",
       "    <tr>\n",
       "      <th>4</th>\n",
       "      <td>98.0</td>\n",
       "      <td>2</td>\n",
       "      <td>0</td>\n",
       "      <td>196.0</td>\n",
       "    </tr>\n",
       "  </tbody>\n",
       "</table>\n",
       "</div>"
      ],
      "text/plain": [
       "    adr  total_nights  previous_bookings_not_canceled    clv\n",
       "0   0.0             0                               0    0.0\n",
       "1   0.0             0                               0    0.0\n",
       "2  75.0             1                               0   75.0\n",
       "3  75.0             1                               0   75.0\n",
       "4  98.0             2                               0  196.0"
      ]
     },
     "execution_count": 4,
     "metadata": {},
     "output_type": "execute_result"
    }
   ],
   "source": [
    "#Define CLV Based on Available Data\n",
    "#We will compute CLV using:\n",
    "#CLV = ADR × Total Nights × (Previous Bookings Not Canceled + 1)\n",
    "#What This Does:\n",
    "#ADR, total nights, and booking frequency to estimate Customer Lifetime Value.\n",
    "#Uses previous_bookings_not_canceled as a proxy for repeated bookings.\n",
    "\n",
    "# Load the dataset\n",
    "df = pd.read_csv(\"hotel_booking_business_analytics.csv\")\n",
    "\n",
    "# Ensure reservation date is datetime format\n",
    "df['reservation_status_date'] = pd.to_datetime(df['reservation_status_date'])\n",
    "\n",
    "# Define total nights if not already present\n",
    "df['total_nights'] = df['stays_in_weekend_nights'] + df['stays_in_week_nights']\n",
    "\n",
    "# Calculate Customer Lifetime Value (CLV)\n",
    "df['clv'] = df['adr'] * df['total_nights'] * (df['previous_bookings_not_canceled'] + 1)\n",
    "\n",
    "# Select relevant features for modeling\n",
    "features = ['adr', 'total_nights', 'lead_time', 'is_canceled', 'previous_bookings_not_canceled']\n",
    "target = 'clv'\n",
    "\n",
    "X = df[features]\n",
    "y = df[target]\n",
    "\n",
    "# Display first few rows\n",
    "df[['adr', 'total_nights', 'previous_bookings_not_canceled', 'clv']].head()"
   ]
  },
  {
   "cell_type": "code",
   "execution_count": 6,
   "id": "1eec5fd2",
   "metadata": {},
   "outputs": [
    {
     "name": "stdout",
     "output_type": "stream",
     "text": [
      "Training set: (69916, 5), Test set: (17480, 5)\n"
     ]
    }
   ],
   "source": [
    "#Train-Test Split\n",
    "#We split the data into 80% training and 20% testing to evaluate model performance.\n",
    "#Why\n",
    "#Ensures model is evaluated on unseen data to prevent overfitting.\n",
    "#80-20 split is industry standard for regression models.\n",
    "\n",
    "# Split the dataset into training and testing sets\n",
    "X_train, X_test, y_train, y_test = train_test_split(X, y, test_size=0.2, random_state=42)\n",
    "\n",
    "# Display dataset shapes\n",
    "print(f\"Training set: {X_train.shape}, Test set: {X_test.shape}\")"
   ]
  },
  {
   "cell_type": "code",
   "execution_count": 7,
   "id": "b6dc987c",
   "metadata": {},
   "outputs": [],
   "source": [
    "#Train the Random Forest Model\n",
    "#We train a Random Forest Regressor with 100 decision trees.\n",
    "#Why Random Forest?\n",
    "#Captures non-linear relationships between features and CLV.\n",
    "#Reduces overfitting by averaging multiple decision trees.\n",
    "#Handles missing data & outliers better than traditional regression models.\n",
    "\n",
    "# Initialize the Random Forest Regressor\n",
    "rf_model = RandomForestRegressor(n_estimators=100, random_state=42)\n",
    "\n",
    "# Train the model\n",
    "rf_model.fit(X_train, y_train)\n",
    "\n",
    "# Make predictions\n",
    "y_pred = rf_model.predict(X_test)"
   ]
  },
  {
   "cell_type": "code",
   "execution_count": 9,
   "id": "0deda066",
   "metadata": {},
   "outputs": [
    {
     "name": "stdout",
     "output_type": "stream",
     "text": [
      "Model Performance:\n",
      "Mean Absolute Error (MAE): 3.78\n",
      "Mean Squared Error (MSE): 6728.86\n",
      "Root Mean Squared Error (RMSE): 82.03\n",
      "R² Score: 0.9721\n"
     ]
    }
   ],
   "source": [
    "#Evaluate Model Performance\n",
    "#We measure how well the model predicts CLV using MAE, RMSE, and R² Score.\n",
    "#What These Metrics Mean:\n",
    "#MAE → Average prediction error in revenue terms.\n",
    "#RMSE → Measures how far predictions deviate from actual CLV.\n",
    "#R² Score → Tells us how much of CLV variability is explained by the model.\n",
    "\n",
    "# Calculate performance metrics\n",
    "mae = mean_absolute_error(y_test, y_pred)\n",
    "mse = mean_squared_error(y_test, y_pred)\n",
    "rmse = np.sqrt(mse)\n",
    "r2 = r2_score(y_test, y_pred)\n",
    "\n",
    "# Print model performance\n",
    "print(f\"Random Forest Model Performance:\")\n",
    "print(f\"Mean Absolute Error (MAE): {mae:.2f}\")\n",
    "print(f\"Mean Squared Error (MSE): {mse:.2f}\")\n",
    "print(f\"Root Mean Squared Error (RMSE): {rmse:.2f}\")\n",
    "print(f\"R² Score: {r2:.4f}\")"
   ]
  },
  {
   "cell_type": "code",
   "execution_count": 11,
   "id": "812cca12",
   "metadata": {},
   "outputs": [
    {
     "data": {
      "image/png": "[encoded data removed]",
      "text/plain": [
       "<Figure size 800x500 with 1 Axes>"
      ]
     },
     "metadata": {},
     "output_type": "display_data"
    }
   ],
   "source": [
    "#Feature Importance Analysis\n",
    "#We identify which factors impact CLV the most\n",
    "#Why?\n",
    "#Shows which customer behaviors influence CLV the most.\n",
    "#Helps businesses focus on high-value customer retention strategies.\n",
    "\n",
    "# Get feature importance from the trained model\n",
    "feature_importance = rf_model.feature_importances_\n",
    "\n",
    "# Create a DataFrame for visualization\n",
    "importance_df = pd.DataFrame({'Feature': features, 'Importance': feature_importance})\n",
    "importance_df = importance_df.sort_values(by='Importance', ascending=False)\n",
    "\n",
    "# Plot Feature Importance\n",
    "plt.figure(figsize=(8,5))\n",
    "sns.barplot(x='Importance', y='Feature', data=importance_df, palette=\"viridis\")\n",
    "plt.title(\"Feature Importance for CLV Prediction\")\n",
    "plt.xlabel(\"Importance Score\")\n",
    "plt.ylabel(\"Feature\")\n",
    "plt.show()"
   ]
  },
  {
   "cell_type": "code",
   "execution_count": 13,
   "id": "f3561fcf",
   "metadata": {},
   "outputs": [],
   "source": [
    "#Train an XGBoost Regressor for CLV Prediction\n",
    "#Now, we will train an XGBoost Regressor and compare its performance with the Random Forest model\n",
    "#Train-Test Split\n",
    "#We use the same features (X) and target (y) from the Random Forest model.\n",
    "#Why This Step?\n",
    "#Ensures fair comparison with Random Forest.\n",
    "#Prevents data leakage by keeping the test set separate.\n",
    "\n",
    "# Split the dataset into training (80%) and testing (20%) sets\n",
    "X_train, X_test, y_train, y_test = train_test_split(X, y, test_size=0.2, random_state=42)"
   ]
  },
  {
   "cell_type": "code",
   "execution_count": 14,
   "id": "d8704e53",
   "metadata": {},
   "outputs": [],
   "source": [
    "#We initialize and train an XGBoost Regressor with 100 estimators and a learning rate of 0.1.\n",
    "#Why XGBoost?\n",
    "#More efficient & faster than Random Forest.\n",
    "#Uses gradient boosting to improve weak predictions.\n",
    "#Handles non-linearity & feature interactions better.\n",
    "\n",
    "# Initialize the XGBoost Regressor\n",
    "xgb_model = xgb.XGBRegressor(objective='reg:squarederror', \n",
    "                             n_estimators=100, \n",
    "                             learning_rate=0.1, \n",
    "                             random_state=42)\n",
    "\n",
    "# Train the model\n",
    "xgb_model.fit(X_train, y_train)\n",
    "\n",
    "# Make predictions\n",
    "y_pred_xgb = xgb_model.predict(X_test)"
   ]
  },
  {
   "cell_type": "code",
   "execution_count": 15,
   "id": "db7c1417",
   "metadata": {},
   "outputs": [
    {
     "name": "stdout",
     "output_type": "stream",
     "text": [
      "XGBoost Model Performance:\n",
      "Mean Absolute Error (MAE): 9.94\n",
      "Mean Squared Error (MSE): 4809.16\n",
      "Root Mean Squared Error (RMSE): 69.35\n",
      "R² Score: 0.9801\n"
     ]
    }
   ],
   "source": [
    "#Evaluate Model Performance\n",
    "#We calculate MAE, RMSE, and R² Score to compare with Random Forest.\n",
    "#What These Metrics Mean:\n",
    "#MAE (Mean Absolute Error): Measures average prediction error.\n",
    "#RMSE (Root Mean Squared Error): Shows how much predictions deviate from actual values.\n",
    "#R² Score: Measures how well the model explains CLV variance (higher is better).\n",
    "\n",
    "# Calculate performance metrics\n",
    "mae_xgb = mean_absolute_error(y_test, y_pred_xgb)\n",
    "mse_xgb = mean_squared_error(y_test, y_pred_xgb)\n",
    "rmse_xgb = np.sqrt(mse_xgb)\n",
    "r2_xgb = r2_score(y_test, y_pred_xgb)\n",
    "\n",
    "# Print model performance\n",
    "print(f\"XGBoost Model Performance:\")\n",
    "print(f\"Mean Absolute Error (MAE): {mae_xgb:.2f}\")\n",
    "print(f\"Mean Squared Error (MSE): {mse_xgb:.2f}\")\n",
    "print(f\"Root Mean Squared Error (RMSE): {rmse_xgb:.2f}\")\n",
    "print(f\"R² Score: {r2_xgb:.4f}\")"
   ]
  },
  {
   "cell_type": "code",
   "execution_count": 16,
   "id": "b9ec0adf",
   "metadata": {},
   "outputs": [
    {
     "data": {
      "image/png": "[encoded data removed]",
      "text/plain": [
       "<Figure size 800x500 with 1 Axes>"
      ]
     },
     "metadata": {},
     "output_type": "display_data"
    }
   ],
   "source": [
    "#Feature Importance Analysis\n",
    "#We visualize which factors impact CLV the most.\n",
    "#Why Feature Importance?\n",
    "#Helps explain what drives high CLV customers.\n",
    "#Assists hotels in targeting profitable customer segments.\n",
    "\n",
    "# Get feature importance from the trained XGBoost model\n",
    "feature_importance_xgb = xgb_model.feature_importances_\n",
    "\n",
    "# Create a DataFrame for visualization\n",
    "importance_df_xgb = pd.DataFrame({'Feature': features, 'Importance': feature_importance_xgb})\n",
    "importance_df_xgb = importance_df_xgb.sort_values(by='Importance', ascending=False)\n",
    "\n",
    "# Plot Feature Importance\n",
    "plt.figure(figsize=(8,5))\n",
    "sns.barplot(x='Importance', y='Feature', data=importance_df_xgb, palette=\"viridis\")\n",
    "plt.title(\"Feature Importance for CLV Prediction (XGBoost)\")\n",
    "plt.xlabel(\"Importance Score\")\n",
    "plt.ylabel(\"Feature\")\n",
    "plt.show()"
   ]
  },
  {
   "cell_type": "code",
   "execution_count": null,
   "id": "24f2e21a",
   "metadata": {},
   "outputs": [],
   "source": []
  }
 ],
 "metadata": {
  "kernelspec": {
   "display_name": "Python 3 (ipykernel)",
   "language": "python",
   "name": "python3"
  },
  "language_info": {
   "codemirror_mode": {
    "name": "ipython",
    "version": 3
   },
   "file_extension": ".py",
   "mimetype": "text/x-python",
   "name": "python",
   "nbconvert_exporter": "python",
   "pygments_lexer": "ipython3",
   "version": "3.10.9"
  }
 },
 "nbformat": 4,
 "nbformat_minor": 5
}
